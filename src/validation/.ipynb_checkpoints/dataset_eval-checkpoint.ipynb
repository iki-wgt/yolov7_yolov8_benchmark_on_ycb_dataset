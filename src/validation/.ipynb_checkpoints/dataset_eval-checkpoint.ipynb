{
 "cells": [
  {
   "cell_type": "markdown",
   "metadata": {},
   "source": [
    "## Datasets evaluation"
   ]
  },
  {
   "cell_type": "code",
   "execution_count": 1,
   "metadata": {},
   "outputs": [
    {
     "ename": "AttributeError",
     "evalue": "module 'cv2.dnn' has no attribute 'DictValue'",
     "output_type": "error",
     "traceback": [
      "\u001b[0;31m---------------------------------------------------------------------------\u001b[0m",
      "\u001b[0;31mAttributeError\u001b[0m                            Traceback (most recent call last)",
      "\u001b[0;32m/tmp/ipykernel_149/1932592702.py\u001b[0m in \u001b[0;36m<module>\u001b[0;34m\u001b[0m\n\u001b[1;32m      4\u001b[0m \u001b[0;32mimport\u001b[0m \u001b[0mglob\u001b[0m\u001b[0;34m\u001b[0m\u001b[0;34m\u001b[0m\u001b[0m\n\u001b[1;32m      5\u001b[0m \u001b[0;32mfrom\u001b[0m \u001b[0mcollections\u001b[0m \u001b[0;32mimport\u001b[0m \u001b[0mCounter\u001b[0m\u001b[0;34m\u001b[0m\u001b[0;34m\u001b[0m\u001b[0m\n\u001b[0;32m----> 6\u001b[0;31m \u001b[0;32mimport\u001b[0m \u001b[0mcv2\u001b[0m\u001b[0;34m\u001b[0m\u001b[0;34m\u001b[0m\u001b[0m\n\u001b[0m\u001b[1;32m      7\u001b[0m \u001b[0;32mimport\u001b[0m \u001b[0mnumpy\u001b[0m \u001b[0;32mas\u001b[0m \u001b[0mnp\u001b[0m\u001b[0;34m\u001b[0m\u001b[0;34m\u001b[0m\u001b[0m\n\u001b[1;32m      8\u001b[0m \u001b[0;32mimport\u001b[0m \u001b[0muuid\u001b[0m\u001b[0;34m\u001b[0m\u001b[0;34m\u001b[0m\u001b[0m\n",
      "\u001b[0;32m/opt/conda/lib/python3.8/site-packages/cv2/__init__.py\u001b[0m in \u001b[0;36m<module>\u001b[0;34m\u001b[0m\n\u001b[1;32m    188\u001b[0m \u001b[0;34m\u001b[0m\u001b[0m\n\u001b[1;32m    189\u001b[0m \u001b[0;34m\u001b[0m\u001b[0m\n\u001b[0;32m--> 190\u001b[0;31m \u001b[0mbootstrap\u001b[0m\u001b[0;34m(\u001b[0m\u001b[0;34m)\u001b[0m\u001b[0;34m\u001b[0m\u001b[0;34m\u001b[0m\u001b[0m\n\u001b[0m",
      "\u001b[0;32m/opt/conda/lib/python3.8/site-packages/cv2/__init__.py\u001b[0m in \u001b[0;36mbootstrap\u001b[0;34m()\u001b[0m\n\u001b[1;32m    182\u001b[0m \u001b[0;34m\u001b[0m\u001b[0m\n\u001b[1;32m    183\u001b[0m     \u001b[0;32mfor\u001b[0m \u001b[0msubmodule\u001b[0m \u001b[0;32min\u001b[0m \u001b[0m__collect_extra_submodules\u001b[0m\u001b[0;34m(\u001b[0m\u001b[0mDEBUG\u001b[0m\u001b[0;34m)\u001b[0m\u001b[0;34m:\u001b[0m\u001b[0;34m\u001b[0m\u001b[0;34m\u001b[0m\u001b[0m\n\u001b[0;32m--> 184\u001b[0;31m         \u001b[0;32mif\u001b[0m \u001b[0m__load_extra_py_code_for_module\u001b[0m\u001b[0;34m(\u001b[0m\u001b[0;34m\"cv2\"\u001b[0m\u001b[0;34m,\u001b[0m \u001b[0msubmodule\u001b[0m\u001b[0;34m,\u001b[0m \u001b[0mDEBUG\u001b[0m\u001b[0;34m)\u001b[0m\u001b[0;34m:\u001b[0m\u001b[0;34m\u001b[0m\u001b[0;34m\u001b[0m\u001b[0m\n\u001b[0m\u001b[1;32m    185\u001b[0m             \u001b[0;32mif\u001b[0m \u001b[0mDEBUG\u001b[0m\u001b[0;34m:\u001b[0m \u001b[0mprint\u001b[0m\u001b[0;34m(\u001b[0m\u001b[0;34m\"Extra Python code for\"\u001b[0m\u001b[0;34m,\u001b[0m \u001b[0msubmodule\u001b[0m\u001b[0;34m,\u001b[0m \u001b[0;34m\"is loaded\"\u001b[0m\u001b[0;34m)\u001b[0m\u001b[0;34m\u001b[0m\u001b[0;34m\u001b[0m\u001b[0m\n\u001b[1;32m    186\u001b[0m \u001b[0;34m\u001b[0m\u001b[0m\n",
      "\u001b[0;32m/opt/conda/lib/python3.8/site-packages/cv2/__init__.py\u001b[0m in \u001b[0;36m__load_extra_py_code_for_module\u001b[0;34m(base, name, enable_debug_print)\u001b[0m\n\u001b[1;32m     35\u001b[0m     \u001b[0mnative_module\u001b[0m \u001b[0;34m=\u001b[0m \u001b[0msys\u001b[0m\u001b[0;34m.\u001b[0m\u001b[0mmodules\u001b[0m\u001b[0;34m.\u001b[0m\u001b[0mpop\u001b[0m\u001b[0;34m(\u001b[0m\u001b[0mmodule_name\u001b[0m\u001b[0;34m,\u001b[0m \u001b[0;32mNone\u001b[0m\u001b[0;34m)\u001b[0m\u001b[0;34m\u001b[0m\u001b[0;34m\u001b[0m\u001b[0m\n\u001b[1;32m     36\u001b[0m     \u001b[0;32mtry\u001b[0m\u001b[0;34m:\u001b[0m\u001b[0;34m\u001b[0m\u001b[0;34m\u001b[0m\u001b[0m\n\u001b[0;32m---> 37\u001b[0;31m         \u001b[0mpy_module\u001b[0m \u001b[0;34m=\u001b[0m \u001b[0mimportlib\u001b[0m\u001b[0;34m.\u001b[0m\u001b[0mimport_module\u001b[0m\u001b[0;34m(\u001b[0m\u001b[0mmodule_name\u001b[0m\u001b[0;34m)\u001b[0m\u001b[0;34m\u001b[0m\u001b[0;34m\u001b[0m\u001b[0m\n\u001b[0m\u001b[1;32m     38\u001b[0m     \u001b[0;32mexcept\u001b[0m \u001b[0mImportError\u001b[0m \u001b[0;32mas\u001b[0m \u001b[0merr\u001b[0m\u001b[0;34m:\u001b[0m\u001b[0;34m\u001b[0m\u001b[0;34m\u001b[0m\u001b[0m\n\u001b[1;32m     39\u001b[0m         \u001b[0;32mif\u001b[0m \u001b[0menable_debug_print\u001b[0m\u001b[0;34m:\u001b[0m\u001b[0;34m\u001b[0m\u001b[0;34m\u001b[0m\u001b[0m\n",
      "\u001b[0;32m/opt/conda/lib/python3.8/importlib/__init__.py\u001b[0m in \u001b[0;36mimport_module\u001b[0;34m(name, package)\u001b[0m\n\u001b[1;32m    125\u001b[0m                 \u001b[0;32mbreak\u001b[0m\u001b[0;34m\u001b[0m\u001b[0;34m\u001b[0m\u001b[0m\n\u001b[1;32m    126\u001b[0m             \u001b[0mlevel\u001b[0m \u001b[0;34m+=\u001b[0m \u001b[0;36m1\u001b[0m\u001b[0;34m\u001b[0m\u001b[0;34m\u001b[0m\u001b[0m\n\u001b[0;32m--> 127\u001b[0;31m     \u001b[0;32mreturn\u001b[0m \u001b[0m_bootstrap\u001b[0m\u001b[0;34m.\u001b[0m\u001b[0m_gcd_import\u001b[0m\u001b[0;34m(\u001b[0m\u001b[0mname\u001b[0m\u001b[0;34m[\u001b[0m\u001b[0mlevel\u001b[0m\u001b[0;34m:\u001b[0m\u001b[0;34m]\u001b[0m\u001b[0;34m,\u001b[0m \u001b[0mpackage\u001b[0m\u001b[0;34m,\u001b[0m \u001b[0mlevel\u001b[0m\u001b[0;34m)\u001b[0m\u001b[0;34m\u001b[0m\u001b[0;34m\u001b[0m\u001b[0m\n\u001b[0m\u001b[1;32m    128\u001b[0m \u001b[0;34m\u001b[0m\u001b[0m\n\u001b[1;32m    129\u001b[0m \u001b[0;34m\u001b[0m\u001b[0m\n",
      "\u001b[0;32m/opt/conda/lib/python3.8/site-packages/cv2/typing/__init__.py\u001b[0m in \u001b[0;36m<module>\u001b[0;34m\u001b[0m\n\u001b[1;32m    167\u001b[0m \u001b[0mExtractArgsCallback\u001b[0m \u001b[0;34m=\u001b[0m \u001b[0mtyping\u001b[0m\u001b[0;34m.\u001b[0m\u001b[0mCallable\u001b[0m\u001b[0;34m[\u001b[0m\u001b[0;34m[\u001b[0m\u001b[0mtyping\u001b[0m\u001b[0;34m.\u001b[0m\u001b[0mSequence\u001b[0m\u001b[0;34m[\u001b[0m\u001b[0mGTypeInfo\u001b[0m\u001b[0;34m]\u001b[0m\u001b[0;34m]\u001b[0m\u001b[0;34m,\u001b[0m \u001b[0mtyping\u001b[0m\u001b[0;34m.\u001b[0m\u001b[0mSequence\u001b[0m\u001b[0;34m[\u001b[0m\u001b[0mGRunArg\u001b[0m\u001b[0;34m]\u001b[0m\u001b[0;34m]\u001b[0m\u001b[0;34m\u001b[0m\u001b[0;34m\u001b[0m\u001b[0m\n\u001b[1;32m    168\u001b[0m \u001b[0mExtractMetaCallback\u001b[0m \u001b[0;34m=\u001b[0m \u001b[0mtyping\u001b[0m\u001b[0;34m.\u001b[0m\u001b[0mCallable\u001b[0m\u001b[0;34m[\u001b[0m\u001b[0;34m[\u001b[0m\u001b[0mtyping\u001b[0m\u001b[0;34m.\u001b[0m\u001b[0mSequence\u001b[0m\u001b[0;34m[\u001b[0m\u001b[0mGTypeInfo\u001b[0m\u001b[0;34m]\u001b[0m\u001b[0;34m]\u001b[0m\u001b[0;34m,\u001b[0m \u001b[0mtyping\u001b[0m\u001b[0;34m.\u001b[0m\u001b[0mSequence\u001b[0m\u001b[0;34m[\u001b[0m\u001b[0mGMetaArg\u001b[0m\u001b[0;34m]\u001b[0m\u001b[0;34m]\u001b[0m\u001b[0;34m\u001b[0m\u001b[0;34m\u001b[0m\u001b[0m\n\u001b[0;32m--> 169\u001b[0;31m \u001b[0mLayerId\u001b[0m \u001b[0;34m=\u001b[0m \u001b[0mcv2\u001b[0m\u001b[0;34m.\u001b[0m\u001b[0mdnn\u001b[0m\u001b[0;34m.\u001b[0m\u001b[0mDictValue\u001b[0m\u001b[0;34m\u001b[0m\u001b[0;34m\u001b[0m\u001b[0m\n\u001b[0m\u001b[1;32m    170\u001b[0m \u001b[0mIndexParams\u001b[0m \u001b[0;34m=\u001b[0m \u001b[0mtyping\u001b[0m\u001b[0;34m.\u001b[0m\u001b[0mDict\u001b[0m\u001b[0;34m[\u001b[0m\u001b[0mstr\u001b[0m\u001b[0;34m,\u001b[0m \u001b[0mtyping\u001b[0m\u001b[0;34m.\u001b[0m\u001b[0mUnion\u001b[0m\u001b[0;34m[\u001b[0m\u001b[0mbool\u001b[0m\u001b[0;34m,\u001b[0m \u001b[0mint\u001b[0m\u001b[0;34m,\u001b[0m \u001b[0mfloat\u001b[0m\u001b[0;34m,\u001b[0m \u001b[0mstr\u001b[0m\u001b[0;34m]\u001b[0m\u001b[0;34m]\u001b[0m\u001b[0;34m\u001b[0m\u001b[0;34m\u001b[0m\u001b[0m\n\u001b[1;32m    171\u001b[0m \u001b[0mSearchParams\u001b[0m \u001b[0;34m=\u001b[0m \u001b[0mtyping\u001b[0m\u001b[0;34m.\u001b[0m\u001b[0mDict\u001b[0m\u001b[0;34m[\u001b[0m\u001b[0mstr\u001b[0m\u001b[0;34m,\u001b[0m \u001b[0mtyping\u001b[0m\u001b[0;34m.\u001b[0m\u001b[0mUnion\u001b[0m\u001b[0;34m[\u001b[0m\u001b[0mbool\u001b[0m\u001b[0;34m,\u001b[0m \u001b[0mint\u001b[0m\u001b[0;34m,\u001b[0m \u001b[0mfloat\u001b[0m\u001b[0;34m,\u001b[0m \u001b[0mstr\u001b[0m\u001b[0;34m]\u001b[0m\u001b[0;34m]\u001b[0m\u001b[0;34m\u001b[0m\u001b[0;34m\u001b[0m\u001b[0m\n",
      "\u001b[0;31mAttributeError\u001b[0m: module 'cv2.dnn' has no attribute 'DictValue'"
     ]
    }
   ],
   "source": [
    "import pandas as pd\n",
    "import matplotlib.pyplot as plt \n",
    "import json\n",
    "import glob\n",
    "from collections import Counter\n",
    "import cv2\n",
    "import numpy as np\n",
    "import uuid \n",
    "import os \n",
    "import random\n",
    "import shutil"
   ]
  },
  {
   "cell_type": "markdown",
   "metadata": {},
   "source": [
    "### Variables"
   ]
  },
  {
   "cell_type": "code",
   "execution_count": 352,
   "metadata": {},
   "outputs": [],
   "source": [
    "docker_dataset_path=\"/root/datasets\""
   ]
  },
  {
   "cell_type": "markdown",
   "metadata": {},
   "source": [
    "### Utils"
   ]
  },
  {
   "cell_type": "code",
   "execution_count": 353,
   "metadata": {},
   "outputs": [],
   "source": [
    "### utils\n",
    "\n",
    "# def plot_images(images):\n",
    "#     fig = plt.figure(figsize=(30, 30))\n",
    "#     columns = 4\n",
    "#     rows = 2\n",
    "#     for i in range(1,len(images)):\n",
    "#         fig.add_subplot(rows, columns, i)\n",
    "#         if i < len(images):\n",
    "#             plt.axis('off')\n",
    "#             plt.imshow(images[i])\n",
    "#     plt.show()\n",
    "\n",
    "def draw_bbox(image_path:str, bboxes:list):\n",
    "    '''\n",
    "    draw the bbox to an given image\n",
    "\n",
    "    @param image_path: image_path of the original image\n",
    "    @param bboxes: bboxes in pixelformat regarding to this images\n",
    "\n",
    "    @return image\n",
    "    '''    \n",
    "\n",
    "    image = cv2.imread(image_path)\n",
    "    print(image.shape) # (height,widht)\n",
    "    # x = bboxes[0][0] / image.shape[1]  \n",
    "    # print(f\"X: {x}\" )\n",
    "    for bbox in bboxes:\n",
    "        print(f\"bbox:{bbox}\")\n",
    "        cv2.rectangle(image, tuple(bbox[:2]), \n",
    "        \ttuple(bbox[2:]), (0, 255, 0), 2)\n",
    "    #cv2.putText(image,str(iou)[0:5],(bbox_gt[0],bbox_gt[1]),fontFace=cv2.FONT_HERSHEY_SIMPLEX, fontScale=5, color=(0,255,0), thickness=5)\n",
    "    \n",
    "    return image\n",
    "\n",
    "def parse_bbox_from_plx_to_yolo(bbox,image_path):\n",
    "    '''\n",
    "    Parse the bbox format from plx to yolo\n",
    "    \n",
    "    @param bbox: bbox in plx format tlx, tly, brx, bry\n",
    "    @param image_path: path of the image to get the img shape\n",
    "\n",
    "    @return list with x_center,y_center, width, height\n",
    "    '''\n",
    "    img = cv2.imread(image_path)\n",
    "    image_height, image_width,_  =  img.shape\n",
    "    widht = abs(bbox[0] - bbox[2]) /image_width \n",
    "    height = abs(bbox[1] - bbox[3]) / image_height\n",
    "    x_center = (bbox[0] / image_width) + widht /2\n",
    "    y_center = (bbox[1] / image_height) + height /2\n",
    "\n",
    "    # print(f\"{x_center} {y_center} {widht} {height}\")\n",
    "    return [x_center , y_center, widht, height]\n",
    "\n",
    "def parse_bbox_from_yolo_to_plx(bbox, image_path):\n",
    "    '''\n",
    "    Parse the bbox format from yolo to plx\n",
    "    \n",
    "    @param bbox: bbox in yolo format x_center, y_center, width, height\n",
    "    @param image_path path of the image to get the img shape\n",
    "\n",
    "    @return list with tl x, y  and br x,y\n",
    "    '''\n",
    "    img = cv2.imread(image_path)\n",
    "    image_height, image_width,_  =  img.shape\n",
    "\n",
    "    center_x_plx = bbox[0] * image_width\n",
    "    center_y_plx = bbox[1] * image_height\n",
    "    width_plx = bbox[2] * image_width\n",
    "    height_plx = bbox[3] * image_height\n",
    "\n",
    "    tl_x = abs(center_x_plx - (width_plx/2)) \n",
    "    tf_y = abs(center_y_plx - (height_plx/2))\n",
    "    bl_x = abs(center_x_plx + (width_plx/2))\n",
    "    bl_y = abs(center_y_plx + (height_plx/2))\n",
    "    \n",
    "    return [tl_x,tf_y,bl_x,bl_y]\n",
    "\n",
    "\n",
    "def calculate_maser_chef_can_as_yolo_format():\n",
    "    pass\n",
    "    #   if split_line[0] == '002_master_chef_can':\n",
    "    #   yolo_read = open(yolo_path[idx], 'r')\n",
    "    #   yolo_write = open(yolo_path[idx], 'a')\n",
    "    #   yolo_bb = yolo_read.readlines()\n",
    "    #   if bbox_file.split('/')[-2] == '0013':\n",
    "        #   print(image_path)\n",
    "        #   image_path = images[idx]\n",
    "        #   x_center , y_center, widht, height = parse_bbox_from_plx_to_yolo(bbox,image_path)\n",
    "        #   yolo_write.write(f'\\n0 {x_center} {y_center} {widht} {height}\\n')\n",
    "    #      parse_bbox_from_yolo_to_plx([x_center , y_center, widht, height], image_path)\n",
    "        #   counter +=1\n",
    "    #   yolo_read.close()\n",
    "    #   yolo_write.close()\n",
    "\n",
    "def plot_objects(counted_objects:dict, title:str, change_keys=True):\n",
    "    '''\n",
    "    Plot bar for a specific Dataset\n",
    "\n",
    "    @param counted_objects: dict with format: {obj_name: # of objects}\n",
    "    @param title: title of this plot\n",
    "    @param change_keys: if the keys should be shortend or not\n",
    "    '''\n",
    "    print(f\"# of objects {sum(counted_objects.values())}\")\n",
    "    \n",
    "    fig, ax = plt.subplots()\n",
    "    obj_dic_sort= dict(sorted(counted_objects.items()))\n",
    "\n",
    "    if change_keys:\n",
    "        keys = []\n",
    "        for key in obj_dic_sort.keys():\n",
    "            keys.append(key[0:3])\n",
    "    else:\n",
    "        keys = list(obj_dic_sort.keys())\n",
    "\n",
    "    ax.bar(keys, obj_dic_sort.values())\n",
    "    ax.set_ylabel('# of datas')\n",
    "    ax.set_title(title)\n",
    "\n",
    "    plt.xticks(rotation='vertical')\n",
    "    plt.show()\n",
    "\n",
    "def plot_all_datasets_together(all_dataset_dic:dict, datasets:list):\n",
    "    '''\n",
    "    plot the datasets together\n",
    "    @param all_dataset_dic: all_dataset_dic of type: {obj:[#dataset1, #dataset2 ,etc]}\n",
    "    @param datasets: list of string with the dataset names. \n",
    "    '''\n",
    "\n",
    "    c = []\n",
    "    v = []             \n",
    "    for key, val in all_dataset_dic.items():\n",
    "        c.append(key)\n",
    "        v.append(val)\n",
    "    v = np.array(v)\n",
    "\n",
    "    # reduce obj name by number\n",
    "    keys = []\n",
    "    for key in all_dataset_dic.keys():\n",
    "        keys.append(key[0:3])\n",
    "    \n",
    "    number_of_datasets = len(datasets)\n",
    "\n",
    "    plt.bar(keys, v[:,0]) # plot first bar\n",
    "    for idx in range(number_of_datasets-1):\n",
    "        plt.bar(keys, v[:,idx+1], bottom=v[:,idx]) # plot following bars\n",
    "\n",
    "    plt.legend(datasets)\n",
    "    plt.title(\"All Datasets together\")\n",
    "    plt.xticks(rotation='vertical')\n",
    "    plt.show()\n"
   ]
  },
  {
   "cell_type": "markdown",
   "metadata": {},
   "source": [
    "### Current Class Format"
   ]
  },
  {
   "cell_type": "code",
   "execution_count": 354,
   "metadata": {},
   "outputs": [
    {
     "name": "stdout",
     "output_type": "stream",
     "text": [
      "{'002_master_chef_can': 0, '003_cracker_box': 1, '004_sugar_box': 2, '005_tomato_soup_can': 3, '006_mustard_bottle': 4, '007_tuna_fish_can': 5, '008_pudding_box': 6, '009_gelatin_box': 7, '010_potted_meat_can': 8, '011_banana': 9, '019_pitcher_base': 10, '021_bleach_cleanser': 11, '024_bowl': 12, '025_mug': 13, '035_power_drill': 14, '036_wood_block': 15, '037_scissors': 16, '040_large_marker': 17, '051_large_clamp': 18, '052_extra_large_clamp': 19, '061_foam_brick': 20}\n"
     ]
    }
   ],
   "source": [
    "import copy\n",
    "class_path = f\"{docker_dataset_path}/YCB_video_dataset/YCB_Dataset/yolo/classes.txt\"\n",
    "\n",
    "classes = {}\n",
    "with open(class_path, 'r') as class_file:\n",
    "    lines = class_file.readlines()\n",
    "    for idx, obj in enumerate(lines):\n",
    "        classes[obj.strip()] = idx\n",
    "\n",
    "print(classes)\n",
    "\n"
   ]
  },
  {
   "cell_type": "markdown",
   "metadata": {},
   "source": [
    "## YCB-M Dataset Validation"
   ]
  },
  {
   "cell_type": "markdown",
   "metadata": {},
   "source": [
    "### Get the YCB-M datas"
   ]
  },
  {
   "cell_type": "code",
   "execution_count": 381,
   "metadata": {},
   "outputs": [],
   "source": [
    "camera_types=['xtion','realsense_r200','astra','basler_tof','ensenso','kinect2','pico_flexx']\n",
    "ycbm_objects = []\n",
    "obj_per_cam = {}\n",
    "ycbm_dirs = []\n",
    "ycbm_json_files = []\n",
    "for cam_type in camera_types:\n",
    "  obj_counter = 0\n",
    "  ycbm_dir = glob.glob(f\"{docker_dataset_path}/YCB-M Dataset/{cam_type}/{cam_type}_annotations/{cam_type}/*\")\n",
    "  ycbm_dirs.append(ycbm_dir)\n",
    "  for dir in ycbm_dir:\n",
    "     dir_path = f'{dir}/trajectory/[0-9]*.json'\n",
    "     json_files = glob.glob(dir_path)\n",
    "     for json_file in json_files:\n",
    "       ycbm_json_files.append(json_file)\n",
    "       with open(json_file, 'r') as f:\n",
    "        data = json.load(f)\n",
    "        for dat in data['objects']:\n",
    "          ycbm_objects.append(dat['class'])\n",
    "          obj_counter = obj_counter +1\n",
    "  obj_per_cam[cam_type] = obj_counter  \n",
    "\n",
    "ycbm_obj_counted = dict(Counter(ycbm_objects))\n"
   ]
  },
  {
   "cell_type": "markdown",
   "metadata": {},
   "source": [
    "### Parse YCBM Dataset annotation format"
   ]
  },
  {
   "cell_type": "code",
   "execution_count": 386,
   "metadata": {},
   "outputs": [
    {
     "name": "stdout",
     "output_type": "stream",
     "text": [
      "(480, 640, 3)\n",
      "bbox:[396 157 455 219]\n"
     ]
    },
    {
     "data": {
      "text/plain": [
       "True"
      ]
     },
     "execution_count": 386,
     "metadata": {},
     "output_type": "execute_result"
    }
   ],
   "source": [
    "\n",
    "# for file in ycbm_json_files:\n",
    "#     # print(file)\n",
    "#     bboxes = []\n",
    "#     obj_classes = []\n",
    "#     pxl_boxes = []\n",
    "\n",
    "#     with open(file, 'r') as ycbm_read:\n",
    "#         json_data = json.load(ycbm_read)\n",
    "#         for obj in json_data['objects']:\n",
    "#             br = obj['bounding_box']['bottom_right'] # y,x \n",
    "#             tl = obj['bounding_box']['top_left'] # y,x\n",
    "#             obj_classes.append(obj['class'])\n",
    "#             bboxes.append([tl[1],tl[0],br[1],br[0]])\n",
    "#             # print([tl,br])\n",
    "#             # print(obj_class)\n",
    "#             # print(classes[obj_class])\n",
    "#     yolo_file = f\"{file.split('.')[0]}.txt\" \n",
    "#     image_file = f\"{file.replace('annotations','dataset').split('.')[0]}.jpg\" \n",
    "#     # print(image_file)\n",
    "#     write_yolo_file = open(yolo_file,'w')\n",
    "#     for obj_class, bbox in zip(obj_classes,bboxes):\n",
    "#         id = classes[obj_class]\n",
    "#         # print(id,obj_class)\n",
    "#         yolo_bbox = parse_bbox_from_plx_to_yolo(bbox,image_path=image_file)\n",
    "#         # print(yolo_bbox)\n",
    "#         write_yolo_file.write(f\"{id} {yolo_bbox[0]} {yolo_bbox[1]} {yolo_bbox[2]} {yolo_bbox[3]}\\n\")\n",
    "\n",
    "#     write_yolo_file.close()\n",
    "\n",
    "# print(f\"pxl_boxesp {pxl_boxes}\")\n",
    "# res_img = draw_bbox(image_path=image_file ,bboxes=np.array(pxl_boxes).astype(int))\n",
    "# cv2.imwrite(f'{docker_dataset_path}/ycb_test.jpg',res_img)\n",
    "# print(f\"bboxes: {bboxes}\")\n",
    "# \n",
    "# yolo_bbox = parse_bbox_from_plx_to_yolo(bboxes[4],test_img_path)\n",
    "# print(yolo_bbox)\n",
    "\n",
    "\n",
    "test_img_path = f\"{docker_dataset_path}/YCB-M Dataset/astra/astra_dataset/astra/004_005_008_025_037/trajectory/000003.jpg\"\n",
    "pxl_bbx = parse_bbox_from_yolo_to_plx([0.6648437500000001, 0.39166666666666666, 0.0921875, 0.12916666666666668], test_img_path)\n",
    "# \n",
    "# print((tuple(np.array(pxl_bbx).astype(int)[:2])))\n",
    "# print((tuple(np.array(pxl_bbx).astype(int)[2:])))\n",
    "res_img = draw_bbox(image_path=test_img_path ,bboxes=[np.array(pxl_bbx).astype(int)])\n",
    "# res_img = draw_bbox(image_path=test_img_path ,bboxes=bboxes)\n",
    "cv2.imwrite(f'{docker_dataset_path}/ycb_test.jpg',res_img)\n"
   ]
  },
  {
   "cell_type": "markdown",
   "metadata": {},
   "source": [
    "## YCB_VIDEO_DATASET "
   ]
  },
  {
   "cell_type": "markdown",
   "metadata": {},
   "source": [
    "## Structure\n",
    "\n",
    "### Basic Usage\n",
    "\n",
    "The description of the directories in this package:\n",
    "\n",
    "1. cameras. The camera parameters used to capture the videos. asus-uw.json for video 0000 ~ 0059, asus-cmu.json for video 0060 ~ 0091.\n",
    "2. data. The 92 videos in the dataset.\n",
    "3. data_syn. 80,000 synthetic images of the 21 YCB objects.\n",
    "4. image_sets. Separation of the videos into training set (train.txt) and the testing set (val.txt, keyframe.txt).\n",
    "5. keyframes. Keyframe indexes of the 12 testing videos.\n",
    "6. models. 3D models of the 21 YCB objects.\n",
    "7. pairs. Stereo pair indexes of the 12 testing videos.\n",
    "8. poses. All the 6D poses of the 21 YCB objects in the dataset (quaternion + translation).\n",
    "\n",
    "\n",
    "#### Datas (important)\n",
    " - per image \n",
    "   - image as png\n",
    "   - image-color.txt for bbox per image (yolov7 format but relative)\n",
    "   - image-box.txt also bbox but with test (yolov7 format with pixel bbox but with \"name\" as id)\n",
    "   - meta.mat -> Matrix of the images 6D Pose? \n",
    "\n"
   ]
  },
  {
   "cell_type": "markdown",
   "metadata": {},
   "source": [
    "### Get YCBV Datas"
   ]
  },
  {
   "cell_type": "code",
   "execution_count": 201,
   "metadata": {},
   "outputs": [],
   "source": [
    "## Read all Datas\n",
    "data_path = f\"{docker_dataset_path}/YCB_video_dataset/YCB_Dataset/data\"\n",
    "yolov_dirs = sorted(glob.glob(data_path +\"/*\"))\n",
    "\n",
    "full_bbox_list = []\n",
    "full_bbox_path = []\n",
    "full_images_path = []\n",
    "full_yolo_path = []\n",
    "\n",
    "counter = 0\n",
    "ycbv_objects = []\n",
    "\n",
    "for dir in yolov_dirs:\n",
    "    bboxes_files = sorted(glob.glob(dir+\"/*box*.txt\"))\n",
    "    images = sorted(glob.glob(dir+\"/*color*.png\"))\n",
    "    # print(len(images))\n",
    "    yolo_path = sorted(glob.glob(dir+\"/*color*.txt\"))\n",
    "    full_bbox_path.append(bboxes_files)\n",
    "\n",
    "    bbox_list = []\n",
    "    bbox_list_float = []\n",
    "    for idx, bbox_file in enumerate(bboxes_files):\n",
    "       with open(bbox_file, 'r') as f:\n",
    "           bboxes = f.readlines() \n",
    "           for line in bboxes:\n",
    "              split_line = np.array(line.split(' '))\n",
    "              ycbv_objects.append(split_line[0])\n",
    "              bbox = split_line[1:].astype(float)\n",
    "              bbox_list_float.append(bbox)\n",
    "              bbox_list.append(bbox.astype(int))\n",
    "              full_bbox_list.append(bbox.astype(int))\n",
    "       f.close()\n",
    "\n",
    "ycbv_obj_counted = dict(Counter(ycbv_objects))\n"
   ]
  },
  {
   "cell_type": "markdown",
   "metadata": {},
   "source": [
    "## Evaluate Datasets"
   ]
  },
  {
   "cell_type": "code",
   "execution_count": 382,
   "metadata": {},
   "outputs": [
    {
     "name": "stdout",
     "output_type": "stream",
     "text": [
      "# of objects 240131\n"
     ]
    },
    {
     "data": {
      "image/png": "[encoded data removed]",
      "text/plain": [
       "<Figure size 640x480 with 1 Axes>"
      ]
     },
     "metadata": {},
     "output_type": "display_data"
    },
    {
     "name": "stdout",
     "output_type": "stream",
     "text": [
      "# of objects 240131\n"
     ]
    },
    {
     "data": {
      "image/png": "[encoded data removed]",
      "text/plain": [
       "<Figure size 640x480 with 1 Axes>"
      ]
     },
     "metadata": {},
     "output_type": "display_data"
    },
    {
     "name": "stdout",
     "output_type": "stream",
     "text": [
      "# of objects 613917\n"
     ]
    },
    {
     "data": {
      "image/png": "[encoded data removed]",
      "text/plain": [
       "<Figure size 640x480 with 1 Axes>"
      ]
     },
     "metadata": {},
     "output_type": "display_data"
    },
    {
     "data": {
      "image/png": "[encoded data removed]",
      "text/plain": [
       "<Figure size 640x480 with 1 Axes>"
      ]
     },
     "metadata": {},
     "output_type": "display_data"
    }
   ],
   "source": [
    "plot_objects(ycbm_obj_counted, title=\"# of data of dataset ycbm\")\n",
    "plot_objects(obj_per_cam, title=\"Objects per cam of the ycbm dataset\", change_keys=False)\n",
    "plot_objects(ycbv_obj_counted, title=\"# of data of dataset ycbv\")\n",
    "\n",
    "total_dict = {}\n",
    "\n",
    "ycbm_dic_sort= dict(sorted(ycbm_obj_counted.items()))\n",
    "ycbv_dic_sort= dict(sorted(ycbv_obj_counted.items()))\n",
    "\n",
    "# Parse all Datasets together\n",
    "all_dataset_dic = {}\n",
    "for obj in ycbv_dic_sort.keys(): # dic with most objects\n",
    "    nb_objs = ycbm_dic_sort.get(obj,None)\n",
    "    if nb_objs:\n",
    "        all_dataset_dic[obj] = [ycbv_dic_sort[obj] ,  nb_objs] \n",
    "    else:\n",
    "        all_dataset_dic[obj] =  [ycbv_dic_sort[obj],0]\n",
    "\n",
    "plot_all_datasets_together(all_dataset_dic, datasets=['ycbv', 'ybcm'])\n",
    "\n"
   ]
  },
  {
   "cell_type": "markdown",
   "metadata": {},
   "source": [
    "## Rename the datas, to put them together"
   ]
  },
  {
   "cell_type": "markdown",
   "metadata": {},
   "source": [
    "#### Rename ycbm Dataset"
   ]
  },
  {
   "cell_type": "code",
   "execution_count": 506,
   "metadata": {},
   "outputs": [
    {
     "name": "stdout",
     "output_type": "stream",
     "text": [
      "878109e7-582a-456f-bbf4-8ecb5f993819\n"
     ]
    }
   ],
   "source": [
    "camera_types=['xtion','realsense_r200','astra','basler_tof','ensenso','kinect2','pico_flexx']\n",
    "\n",
    "for cam_type in camera_types:\n",
    "  ycbm_ann_dir = sorted(glob.glob(f\"{docker_dataset_path}/Training_Dataset/ycb_m/{cam_type}/{cam_type}_annotations/{cam_type}/*\"))\n",
    "  ycbm_img_dir = sorted(glob.glob(f\"{docker_dataset_path}/Training_Dataset/ycb_m/{cam_type}/{cam_type}_dataset/{cam_type}/*\"))\n",
    "  \n",
    "  for ycbm_ann_path, ycbm_img_path in zip(ycbm_ann_dir,ycbm_img_dir):\n",
    "    txt_files = sorted(glob.glob(f\"{ycbm_ann_path}/trajectory/[0-9]*.txt\"))\n",
    "    jpg_files = sorted(glob.glob(f\"{ycbm_img_path}/trajectory/[0-9]*.jpg\"))\n",
    "    for txt_file, jpg_file in zip(txt_files, jpg_files):\n",
    "       new_uuid = uuid.uuid4()\n",
    "       new_ann_name = f\"{txt_file.split('/')[-1].split('.')[0]}_{new_uuid}.txt\"\n",
    "       new_jpg_name = f\"{jpg_file.split('/')[-1].split('.')[0]}_{new_uuid}.jpg\"\n",
    "       new_ann_path =  txt_file.replace(txt_file.split('/')[-1] ,new_ann_name )\n",
    "       new_jpg_path =  jpg_file.replace(jpg_file.split('/')[-1] ,new_jpg_name )\n",
    "       os.rename(txt_file, new_ann_path)\n",
    "       os.rename(jpg_file, new_jpg_path)\n"
   ]
  },
  {
   "cell_type": "markdown",
   "metadata": {},
   "source": [
    "#### Rename ycbv Dataset"
   ]
  },
  {
   "cell_type": "code",
   "execution_count": 524,
   "metadata": {},
   "outputs": [
    {
     "name": "stdout",
     "output_type": "stream",
     "text": [
      "92\n"
     ]
    }
   ],
   "source": [
    "data_path = f\"{docker_dataset_path}/Training_Dataset/data\"\n",
    "yolov_dirs = sorted(glob.glob(data_path +\"/*\"))\n",
    "print(len(yolov_dirs))\n",
    "for dir in yolov_dirs:\n",
    "    annotations_files = sorted(glob.glob(dir+\"/*color*.txt\"))\n",
    "    image_files = sorted(glob.glob(dir+\"/*color*.png\"))\n",
    "\n",
    "    for txt_file , png_file in zip(annotations_files, image_files):\n",
    "        new_uuid = uuid.uuid4()\n",
    "        new_ann_name = f\"{txt_file.split('/')[-1].split('.')[0]}_{new_uuid}.txt\"\n",
    "        new_png_name = f\"{png_file.split('/')[-1].split('.')[0]}_{new_uuid}.png\"\n",
    "        new_ann_path =  txt_file.replace(txt_file.split('/')[-1] ,new_ann_name )\n",
    "        new_png_path =  png_file.replace(png_file.split('/')[-1] ,new_png_name )\n",
    "        os.rename(txt_file, new_ann_path)\n",
    "        os.rename(png_file, new_png_path)\n"
   ]
  },
  {
   "cell_type": "markdown",
   "metadata": {},
   "source": [
    "### Divide Datas into train and val"
   ]
  },
  {
   "cell_type": "markdown",
   "metadata": {},
   "source": [
    "#### ycbv"
   ]
  },
  {
   "cell_type": "code",
   "execution_count": 575,
   "metadata": {},
   "outputs": [],
   "source": [
    "\n",
    "## val\n",
    "data_path = f\"{docker_dataset_path}/Training_Dataset/data\"\n",
    "yolov_dirs = sorted(glob.glob(data_path +\"/*\"))\n",
    "all_txt_files_ycbv = []\n",
    "all_png_files_ycbv = []\n",
    "\n",
    "train_ycbv = []\n",
    "val_ycbv = []\n",
    "\n",
    "for dir in yolov_dirs:\n",
    "    annotations_files = sorted(glob.glob(dir+\"/*color*.txt\"))\n",
    "    image_files = sorted(glob.glob(dir+\"/*color*.png\"))\n",
    "    for ann_file, img_file in zip(annotations_files,image_files):\n",
    "        all_txt_files_ycbv.append(ann_file)\n",
    "        all_png_files_ycbv.append(img_file)\n",
    "\n",
    "\n",
    "val_samples = random.sample(range(0, len(all_txt_files_ycbv)), int(len(all_txt_files_ycbv)*0.3))\n",
    "\n",
    "val_txt = []\n",
    "val_image = []\n",
    "\n",
    "for sample in val_samples:\n",
    "    val_txt.append(all_txt_files_ycbv[sample])\n",
    "    val_image.append(all_png_files_ycbv[sample])  \n",
    "\n",
    "# for val_t, val_img in zip(val_txt, val_image):\n",
    "    # shutil.copyfile(val_t, f\"{docker_dataset_path}/Training_Dataset/val/labels/{val_t.split('/')[-1]}\")\n",
    "    # shutil.copyfile(val_img, f\"{docker_dataset_path}/Training_Dataset/val/images/{val_img.split('/')[-1]}\")\n",
    "\n",
    "\n",
    "\n",
    "\n",
    "\n"
   ]
  },
  {
   "cell_type": "code",
   "execution_count": 587,
   "metadata": {},
   "outputs": [
    {
     "name": "stdout",
     "output_type": "stream",
     "text": [
      "40180\n",
      "40180\n",
      "0\n",
      "93756\n"
     ]
    }
   ],
   "source": [
    "## Train \n",
    "\n",
    "# TODO improve \n",
    "data_path = f\"{docker_dataset_path}/Training_Dataset/val\"\n",
    "yolov_dirs = sorted(glob.glob(data_path +\"/*\"))\n",
    "\n",
    "annotations_files = sorted(glob.glob(yolov_dirs[1]+\"/*color*.txt\"))\n",
    "image_files = sorted(glob.glob(yolov_dirs[0]+\"/*color*.png\"))\n",
    "\n",
    "print(len(annotations_files))\n",
    "\n",
    "data_path = f\"{docker_dataset_path}/Training_Dataset/data\"\n",
    "yolov_dirs = sorted(glob.glob(data_path +\"/*\"))\n",
    "\n",
    "print(len(val_samples))\n",
    "\n",
    "counter = 0\n",
    "\n",
    "train_txt = []\n",
    "train_img = []\n",
    "\n",
    "\n",
    "\n",
    "for idx, txt_file in enumerate(all_txt_files_ycbv):\n",
    "    if idx  not in val_samples:\n",
    "        train_txt.append(all_txt_files_ycbv[idx])\n",
    "        train_img.append(all_png_files_ycbv[idx])\n",
    "\n",
    "print(counter)\n",
    "\n",
    "print(len(train_txt))\n",
    "\n",
    "# for train_t, train_i in zip(train_txt, train_img):\n",
    "    # shutil.copyfile(train_t, f\"{docker_dataset_path}/Training_Dataset/train/labels/{train_t.split('/')[-1]}\")\n",
    "    # shutil.copyfile(train_i, f\"{docker_dataset_path}/Training_Dataset/train/images/{train_i.split('/')[-1]}\")\n"
   ]
  },
  {
   "cell_type": "markdown",
   "metadata": {},
   "source": [
    "#### ycbm\n"
   ]
  },
  {
   "cell_type": "code",
   "execution_count": 609,
   "metadata": {},
   "outputs": [
    {
     "name": "stdout",
     "output_type": "stream",
     "text": [
      "/root/datasets/Training_Dataset/ycb_m/astra/astra_annotations/astra/004_007_024_037_040_052/trajectory/000105_627cf7d2-d30f-4951-bce6-06506b1f87d8.txt\n",
      "/root/datasets/Training_Dataset/ycb_m/astra/astra_dataset/astra/004_007_024_037_040_052/trajectory/000105_627cf7d2-d30f-4951-bce6-06506b1f87d8.jpg\n",
      "9928\n",
      "23167\n",
      "33095\n"
     ]
    }
   ],
   "source": [
    "camera_types=['xtion','realsense_r200','astra','basler_tof','ensenso','kinect2','pico_flexx']\n",
    "\n",
    "all_ann_files_ycbm = []\n",
    "all_jpg_files_ycbm = []\n",
    "\n",
    "for cam_type in camera_types:\n",
    "  ycbm_ann_dir = sorted(glob.glob(f\"{docker_dataset_path}/Training_Dataset/ycb_m/{cam_type}/{cam_type}_annotations/{cam_type}/*\"))\n",
    "  ycbm_img_dir = sorted(glob.glob(f\"{docker_dataset_path}/Training_Dataset/ycb_m/{cam_type}/{cam_type}_dataset/{cam_type}/*\"))\n",
    "  for ycbm_ann_path, ycbm_img_path in zip(ycbm_ann_dir,ycbm_img_dir):\n",
    "    txt_files = sorted(glob.glob(f\"{ycbm_ann_path}/trajectory/[0-9]*.txt\"))\n",
    "    jpg_files = sorted(glob.glob(f\"{ycbm_img_path}/trajectory/[0-9]*.jpg\"))\n",
    "    for txt_file, jpg_file in zip(txt_files, jpg_files):\n",
    "      all_ann_files_ycbm.append(txt_file)\n",
    "      all_jpg_files_ycbm.append(jpg_file)\n",
    "\n",
    "val_samples = random.sample(range(0, len(all_ann_files_ycbm)), int(len(all_ann_files_ycbm)*0.3))\n",
    "\n",
    "val_txt_ycbm = []\n",
    "val_image_ycbm = []\n",
    "\n",
    "for sample in val_samples:\n",
    "    val_txt_ycbm.append(all_ann_files_ycbm[sample])\n",
    "    val_image_ycbm.append(all_jpg_files_ycbm[sample])  \n",
    "\n",
    "\n",
    "print(val_txt_ycbm[0])\n",
    "print(val_image_ycbm[0])\n",
    "\n",
    "# for val_t, val_img in zip(val_txt_ycbm, val_image_ycbm):\n",
    "    # shutil.move(val_t, f\"{docker_dataset_path}/Training_Dataset/val/labels_ycbm/{val_t.split('/')[-1]}\")\n",
    "    # shutil.move(val_img, f\"{docker_dataset_path}/Training_Dataset/val/images_ycbm/{val_img.split('/')[-1]}\")\n",
    "\n",
    "print(len(val_samples))\n",
    "print(len(all_jpg_files_ycbm) - len(val_samples))\n",
    "print(len(all_jpg_files_ycbm))\n",
    "\n",
    "\n",
    "\n",
    "\n"
   ]
  }
 ],
 "metadata": {
  "kernelspec": {
   "display_name": "Python 3 (ipykernel)",
   "language": "python",
   "name": "python3"
  },
  "language_info": {
   "codemirror_mode": {
    "name": "ipython",
    "version": 3
   },
   "file_extension": ".py",
   "mimetype": "text/x-python",
   "name": "python",
   "nbconvert_exporter": "python",
   "pygments_lexer": "ipython3",
   "version": "3.8.10"
  },
  "vscode": {
   "interpreter": {
    "hash": "916dbcbb3f70747c44a77c7bcd40155683ae19c65e1c03b4aa3499c5328201f1"
   }
  }
 },
 "nbformat": 4,
 "nbformat_minor": 2
}
